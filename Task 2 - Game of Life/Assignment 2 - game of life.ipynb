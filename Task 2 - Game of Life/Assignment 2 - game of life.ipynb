{
 "cells": [
  {
   "cell_type": "code",
   "execution_count": 1,
   "id": "874660ee",
   "metadata": {},
   "outputs": [],
   "source": [
    "import numpy as np \n",
    "import matplotlib.pyplot as plt\n",
    "import matplotlib.animation as animation\n",
    "from matplotlib.animation import FuncAnimation, PillowWriter \n",
    "from matplotlib.colors import ListedColormap\n",
    "import matplotlib.colors as mcolors\n",
    "from matplotlib.patches import Patch"
   ]
  },
  {
   "cell_type": "code",
   "execution_count": 2,
   "id": "919b7996",
   "metadata": {},
   "outputs": [],
   "source": [
    "class GameOfLife:\n",
    "    \n",
    "    def __init__(self, filename):\n",
    "        \"\"\"\n",
    "        Initializes the Conway’s Game of Life model by reading an initial grid state from a file.\n",
    "\n",
    "        :param filename: Path to the txt file containing the initial grid configuration.\n",
    "        :attribute grid: 2D numpy array representing the current state of the grid.\n",
    "        attribute  stages: List to store snapshots of the grid at each step of the simulation.\n",
    "        \"\"\"\n",
    "        self.grid = self.Read_intial_grid(filename)\n",
    "        self.stages = [] \n",
    "        \n",
    "        \n",
    "    def Read_intial_grid(self, filename):\n",
    "        \"\"\"\n",
    "        Reads the initial grid configuration from a specified file.\n",
    "        \n",
    "        :param filename: Path to the txt file containing the initial grid configuration.\n",
    "                         Each cell is represented by '0' (dead) or '1' (alive).\n",
    "        :return: 2D numpy array representing the initial grid state.\n",
    "        \"\"\"\n",
    "        \n",
    "        with open(filename, 'r') as file:\n",
    "            grid = [[int(cell) for cell in line.strip().split(' ')] for line in file] # można też samo split \n",
    "        return np.array(grid)\n",
    "    \n",
    "\n",
    "    def living_neighbours(self, i, j):\n",
    "        \"\"\"\n",
    "        Counts the number of alive neighbors for a given cell in the grid.\n",
    "        \n",
    "        :param i: Row index of the cell.\n",
    "        :param j: Column index of the cell.\n",
    "        :return: Count of living neighbors (values of 1) surrounding the cell at (i, j).\n",
    "        \"\"\"\n",
    "        neighbours_count = 0\n",
    "        rows, cols = self.grid.shape\n",
    "        #print(rows, cols)\n",
    "\n",
    "        for x in range(-1, 2):  # -1, 0, 1: iterating through the rows of neighbours\n",
    "            for y in range(-1, 2):  # -1, 0, 1: iteration over the columns of the neighbours\n",
    "                if x == 0 and y == 0:\n",
    "                    continue  \n",
    "                    \n",
    "                # Periodic indexing - ensuring transition across edges\n",
    "                neighbour_x = (i + x) % rows\n",
    "                neighbour_y = (j + y) % cols\n",
    "\n",
    "                if self.grid[neighbour_x, neighbour_y] == 1:\n",
    "                    neighbours_count += 1\n",
    "\n",
    "        return neighbours_count\n",
    "    \n",
    "    \n",
    "    def update(self, steps=10):\n",
    "        \"\"\"\n",
    "        Changes the state of the grid according to Conway's Game of Life rules:\n",
    "        1.If a dead cell has exactly 3 living neighbors, it becomes alive (birth).\n",
    "        2.If a living cell has 2 or 3 living neighbors, it remains alive (survival).\n",
    "        3.Otherwise, a living cell dies due to underpopulation (fewer than 2 neighbors) \n",
    "        or overpopulation (more than 3 neighbors).\n",
    "        \n",
    "        :param steps: The number of steps to simulate.\n",
    "        \"\"\"\n",
    "        for _ in range(steps):\n",
    "            new_grid = self.grid.copy()\n",
    "            rows, cols = self.grid.shape\n",
    "            for i in range(rows):\n",
    "                for j in range(cols):\n",
    "                    live_neighbors = self.living_neighbours(i, j)\n",
    "                    if self.grid[i, j] == 1:\n",
    "                        if live_neighbors < 2 or live_neighbors > 3:\n",
    "                            new_grid[i, j] = 0\n",
    "                    else:\n",
    "                        if live_neighbors == 3:\n",
    "                            new_grid[i, j] = 1\n",
    "\n",
    "            self.grid = new_grid\n",
    "            self.stages.append(self.grid.copy())\n",
    "\n",
    "    def animate(self, save_to_file=None):\n",
    "        \"\"\"\n",
    "        Creates an animation of the Game of Life evolution\n",
    "    \n",
    "        :param save_to_file: If a string is provided, saves the animation to the file path;\n",
    "                            otherwise, displays the animation interactively.\n",
    "        \"\"\"\n",
    " \n",
    "        if not self.stages:\n",
    "            print(\"No stages recorded. Please run update method first.\")\n",
    "            return\n",
    "\n",
    "        fig, ax = plt.subplots(figsize=(10, 10))\n",
    "        \n",
    "        cmap = mcolors.ListedColormap(['cornsilk', 'hotpink'])\n",
    "        num_rows, num_cols = self.grid.shape\n",
    "    \n",
    "        img = ax.imshow(self.stages[0], cmap=cmap, interpolation='none')\n",
    "\n",
    "        ax.set_aspect('equal')\n",
    "        ax.set_xticks(np.arange(0.5, num_cols + 0.5, 1))\n",
    "        ax.set_yticks(np.arange(0.5, num_rows + 0.5, 1))\n",
    "        ax.grid(color='burlywood', linestyle='-', linewidth=1)\n",
    "        ax.tick_params(which='both', bottom=True, left=False, labelbottom=False, labelleft=False)\n",
    "\n",
    "        from matplotlib.patches import Patch\n",
    "        legend_elements = [Patch(facecolor='hotpink', edgecolor='grey', label='Alive'),\n",
    "                        Patch(facecolor='cornsilk', edgecolor='grey', label='Dead')]\n",
    "        ax.legend(handles=legend_elements, loc='upper right')\n",
    "        \n",
    "        def update_frame(frame):\n",
    "            img.set_array(self.stages[frame])\n",
    "            return [img]\n",
    "\n",
    "        ani = animation.FuncAnimation(fig, update_frame, frames=len(self.stages), interval=500, blit=True)\n",
    "        plt.title(f\"Game of Life Simulation\", size=16)\n",
    "\n",
    "        if save_to_file:\n",
    "            ani.save(save_to_file, PillowWriter(fps=5))\n",
    "            print(f\"Animation saved to file: {save_to_file}\")\n",
    "        else:\n",
    "            plt.show()\n"
   ]
  },
  {
   "cell_type": "markdown",
   "id": "d2eb5551",
   "metadata": {},
   "source": [
    "# Left bottom - Blinker, Center - Glider, Right up - Beacon"
   ]
  },
  {
   "cell_type": "code",
   "execution_count": 308,
   "id": "2d64fb46",
   "metadata": {},
   "outputs": [
    {
     "name": "stdout",
     "output_type": "stream",
     "text": [
      "Animation saved to file: Glider_animation.gif\n"
     ]
    },
    {
     "data": {
      "image/png": "[encoded data removed]",
      "text/plain": [
       "<Figure size 720x720 with 1 Axes>"
      ]
     },
     "metadata": {},
     "output_type": "display_data"
    }
   ],
   "source": [
    "game = GameOfLife('Initial_grid_glider.txt')\n",
    "game.update(100)\n",
    "game.animate(save_to_file='Glider_animation.gif')"
   ]
  },
  {
   "cell_type": "markdown",
   "id": "3d5018a4",
   "metadata": {},
   "source": [
    "![Glider](Glider_animation.gif)"
   ]
  },
  {
   "cell_type": "markdown",
   "id": "cd7eb150",
   "metadata": {},
   "source": [
    "# Pulsar"
   ]
  },
  {
   "cell_type": "code",
   "execution_count": 315,
   "id": "498e69db",
   "metadata": {},
   "outputs": [
    {
     "name": "stdout",
     "output_type": "stream",
     "text": [
      "Animation saved to file: Pulsar_animation.gif\n"
     ]
    },
    {
     "data": {
      "image/png": "[encoded data removed]",
      "text/plain": [
       "<Figure size 720x720 with 1 Axes>"
      ]
     },
     "metadata": {},
     "output_type": "display_data"
    }
   ],
   "source": [
    "game = GameOfLife('pulsar.txt')\n",
    "game.update(200)\n",
    "game.animate(save_to_file='Pulsar_animation.gif')"
   ]
  },
  {
   "cell_type": "markdown",
   "id": "7906e2e9",
   "metadata": {},
   "source": [
    "![Pulsar](Pulsar_animation.gif)"
   ]
  },
  {
   "cell_type": "markdown",
   "id": "e57548cb",
   "metadata": {},
   "source": [
    "# Puffer fish"
   ]
  },
  {
   "cell_type": "code",
   "execution_count": 3,
   "id": "7711bcb2",
   "metadata": {},
   "outputs": [
    {
     "name": "stdout",
     "output_type": "stream",
     "text": [
      "Animation saved to file: Fish_animation.gif\n"
     ]
    },
    {
     "data": {
      "image/png": "[encoded data removed]",
      "text/plain": [
       "<Figure size 720x720 with 1 Axes>"
      ]
     },
     "metadata": {},
     "output_type": "display_data"
    }
   ],
   "source": [
    "game = GameOfLife('puffer_Fish.txt')\n",
    "game.update(300)\n",
    "game.animate(save_to_file='Fish_animation.gif')"
   ]
  },
  {
   "cell_type": "markdown",
   "id": "692c16e0",
   "metadata": {},
   "source": [
    "![Fish](Fish_animation.gif)"
   ]
  }
 ],
 "metadata": {
  "kernelspec": {
   "display_name": "Python 3 (ipykernel)",
   "language": "python",
   "name": "python3"
  },
  "language_info": {
   "codemirror_mode": {
    "name": "ipython",
    "version": 3
   },
   "file_extension": ".py",
   "mimetype": "text/x-python",
   "name": "python",
   "nbconvert_exporter": "python",
   "pygments_lexer": "ipython3",
   "version": "3.13.0"
  }
 },
 "nbformat": 4,
 "nbformat_minor": 5
}
